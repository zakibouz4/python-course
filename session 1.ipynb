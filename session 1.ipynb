{
 "cells": [
  {
   "cell_type": "code",
   "execution_count": 1,
   "id": "471fdc68-debe-40cf-b019-944434c0177c",
   "metadata": {},
   "outputs": [],
   "source": [
    "letnumber1 = 20 \n",
    "letnumber2 = 10 \n"
   ]
  },
  {
   "cell_type": "code",
   "execution_count": 2,
   "id": "42d1a435-c76e-4163-8ca8-c1ecd3a8ca94",
   "metadata": {},
   "outputs": [
    {
     "name": "stdout",
     "output_type": "stream",
     "text": [
      "30\n"
     ]
    }
   ],
   "source": [
    "print ( letnumber1 + letnumber2 ) "
   ]
  },
  {
   "cell_type": "code",
   "execution_count": 3,
   "id": "47f09e50-875a-47d0-92b1-29e12a465d6b",
   "metadata": {},
   "outputs": [
    {
     "name": "stdout",
     "output_type": "stream",
     "text": [
      "10\n"
     ]
    }
   ],
   "source": [
    "print ( letnumber1 - letnumber2 ) "
   ]
  },
  {
   "cell_type": "code",
   "execution_count": 4,
   "id": "b076d253-66c6-410b-accd-adfe67b4cfb0",
   "metadata": {},
   "outputs": [
    {
     "name": "stdout",
     "output_type": "stream",
     "text": [
      "2.0\n"
     ]
    }
   ],
   "source": [
    "print ( letnumber1 / letnumber2 ) "
   ]
  },
  {
   "cell_type": "code",
   "execution_count": 5,
   "id": "2ab960e7-14e8-4c82-910e-7506be2ea293",
   "metadata": {},
   "outputs": [
    {
     "name": "stdout",
     "output_type": "stream",
     "text": [
      "2\n"
     ]
    }
   ],
   "source": [
    "print ( letnumber1 // letnumber2 ) "
   ]
  },
  {
   "cell_type": "code",
   "execution_count": 6,
   "id": "fbe17457-e6a2-45c0-990e-c7b4f6f80a09",
   "metadata": {},
   "outputs": [
    {
     "name": "stdout",
     "output_type": "stream",
     "text": [
      "0\n"
     ]
    }
   ],
   "source": [
    "print ( letnumber1 % letnumber2 ) "
   ]
  },
  {
   "cell_type": "code",
   "execution_count": null,
   "id": "89ced929-c696-4f06-8970-1b80d3151d73",
   "metadata": {},
   "outputs": [],
   "source": []
  }
 ],
 "metadata": {
  "kernelspec": {
   "display_name": "Python 3 (ipykernel)",
   "language": "python",
   "name": "python3"
  },
  "language_info": {
   "codemirror_mode": {
    "name": "ipython",
    "version": 3
   },
   "file_extension": ".py",
   "mimetype": "text/x-python",
   "name": "python",
   "nbconvert_exporter": "python",
   "pygments_lexer": "ipython3",
   "version": "3.13.0"
  }
 },
 "nbformat": 4,
 "nbformat_minor": 5
}
